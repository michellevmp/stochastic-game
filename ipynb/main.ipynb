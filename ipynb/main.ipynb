{
 "cells": [
  {
   "cell_type": "code",
   "execution_count": null,
   "metadata": {},
   "outputs": [],
   "source": [
    "import os\n",
    "os.chdir('..')\n",
    "%load_ext autoreload\n",
    "%autoreload 2\n",
    "import time\n",
    "import logging\n",
    "import numpy as np\n",
    "import tensorflow as tf\n",
    "import equation as eqn\n",
    "from utility import get_config\n",
    "from solver import FeedForwardModel            "
   ]
  },
  {
   "cell_type": "code",
   "execution_count": 2,
   "metadata": {},
   "outputs": [],
   "source": [
    "def main():\n",
    "    config = get_config('./configs/LQMFG_v1.json')\n",
    "    bsde = getattr(eqn, config.eqn_config.eqn_name)(config.eqn_config)\n",
    "    logging.basicConfig(level=logging.INFO,\n",
    "                        format='%(levelname)-6s %(message)s')\n",
    "    \n",
    "    start_time = time.time()\n",
    "    tf.reset_default_graph()\n",
    "    with tf.Session() as sess:\n",
    "        logging.info('Begin to solve LQMFG')\n",
    "        model = FeedForwardModel(config, bsde, sess)\n",
    "        model.build_v1()\n",
    "        training_history = model.train_play(policy_func=model.policy_func)\n",
    "    elapsed_time = time.time() - start_time\n",
    "    print('Elapsed time %f s' % elapsed_time)"
   ]
  },
  {
   "cell_type": "code",
   "execution_count": null,
   "metadata": {},
   "outputs": [
    {
     "name": "stderr",
     "output_type": "stream",
     "text": [
      "INFO   Begin to solve LQMFG\n",
      "INFO   step:     0, train_loss: 4.3847e+01,   relerr_y: 8.4384e-01,  relerr_z: 1.0668e+00,\n",
      "INFO   step:   200, train_loss: 7.5271e+00,   relerr_y: 3.1555e-01,  relerr_z: 9.5999e-01,\n",
      "INFO   step:   400, train_loss: 4.8580e+00,   relerr_y: 2.5418e-01,  relerr_z: 7.8690e-01,\n",
      "INFO   step:   600, train_loss: 3.4306e+00,   relerr_y: 2.7620e-01,  relerr_z: 6.6317e-01,\n",
      "INFO   step:   800, train_loss: 1.2771e+00,   relerr_y: 2.0952e-01,  relerr_z: 5.4662e-01,\n",
      "INFO   step:  1000, train_loss: 1.0407e+00,   relerr_y: 1.5342e-01,  relerr_z: 4.5425e-01,\n",
      "INFO   step:  1200, train_loss: 6.2883e-01,   relerr_y: 9.0155e-02,  relerr_z: 3.8992e-01,\n",
      "INFO   step:  1400, train_loss: 5.7386e-01,   relerr_y: 7.2038e-02,  relerr_z: 3.1530e-01,\n",
      "INFO   step:  1600, train_loss: 3.4072e-01,   relerr_y: 4.9595e-02,  relerr_z: 2.5483e-01,\n",
      "INFO   step:  1800, train_loss: 4.5101e-01,   relerr_y: 5.1755e-02,  relerr_z: 2.2883e-01,\n",
      "INFO   step:  2000, train_loss: 3.0660e-01,   relerr_y: 4.0546e-02,  relerr_z: 1.8905e-01,\n",
      "INFO   step:  2200, train_loss: 3.3347e-01,   relerr_y: 4.7127e-02,  relerr_z: 1.7269e-01,\n",
      "INFO   step:  2400, train_loss: 2.6913e-01,   relerr_y: 3.5344e-02,  relerr_z: 1.4178e-01,\n",
      "INFO   step:  2600, train_loss: 2.7862e-01,   relerr_y: 4.1506e-02,  relerr_z: 1.2403e-01,\n",
      "INFO   step:  2800, train_loss: 2.7189e-01,   relerr_y: 4.1109e-02,  relerr_z: 1.1766e-01,\n",
      "INFO   step:  3000, train_loss: 2.6869e-01,   relerr_y: 3.4194e-02,  relerr_z: 1.0391e-01,\n",
      "INFO   step:  3200, train_loss: 3.0887e-01,   relerr_y: 3.4123e-02,  relerr_z: 1.0161e-01,\n",
      "INFO   step:  3400, train_loss: 2.5044e-01,   relerr_y: 3.3815e-02,  relerr_z: 8.9018e-02,\n",
      "INFO   step:  3600, train_loss: 2.3339e-01,   relerr_y: 3.3016e-02,  relerr_z: 8.8645e-02,\n",
      "INFO   step:  3800, train_loss: 2.2282e-01,   relerr_y: 3.0116e-02,  relerr_z: 8.7969e-02,\n"
     ]
    }
   ],
   "source": [
    "main()"
   ]
  },
  {
   "cell_type": "code",
   "execution_count": null,
   "metadata": {},
   "outputs": [],
   "source": []
  }
 ],
 "metadata": {
  "kernelspec": {
   "display_name": "Python 3",
   "language": "python",
   "name": "python3"
  },
  "language_info": {
   "codemirror_mode": {
    "name": "ipython",
    "version": 3
   },
   "file_extension": ".py",
   "mimetype": "text/x-python",
   "name": "python",
   "nbconvert_exporter": "python",
   "pygments_lexer": "ipython3",
   "version": "3.6.5"
  }
 },
 "nbformat": 4,
 "nbformat_minor": 2
}
